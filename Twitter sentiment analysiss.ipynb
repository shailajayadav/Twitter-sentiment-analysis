{
 "cells": [
  {
   "cell_type": "code",
   "execution_count": 3,
   "metadata": {},
   "outputs": [],
   "source": [
    "import tweepy"
   ]
  },
  {
   "cell_type": "code",
   "execution_count": 4,
   "metadata": {},
   "outputs": [
    {
     "name": "stdout",
     "output_type": "stream",
     "text": [
      "Collecting textblob\n",
      "  Using cached https://files.pythonhosted.org/packages/11/18/7f55c8be6d68ddc4036ffda5382ca51e23a1075987f708b9123712091af1/textblob-0.15.1-py2.py3-none-any.whl\n",
      "Requirement already satisfied: nltk>=3.1 in /anaconda3/envs/tweepy_env/lib/python3.6/site-packages (from textblob) (3.3)\n",
      "Requirement already satisfied: six in /anaconda3/envs/tweepy_env/lib/python3.6/site-packages (from nltk>=3.1->textblob) (1.11.0)\n",
      "Installing collected packages: textblob\n",
      "Successfully installed textblob-0.15.1\n"
     ]
    }
   ],
   "source": [
    "%%bash\n",
    "source activate tweepy_env\n",
    "pip install textblob"
   ]
  },
  {
   "cell_type": "code",
   "execution_count": 4,
   "metadata": {},
   "outputs": [],
   "source": [
    "from textblob import TextBlob "
   ]
  },
  {
   "cell_type": "code",
   "execution_count": 5,
   "metadata": {},
   "outputs": [],
   "source": [
    "consumer_key=\"17Lx9JYY2XwL1qEagNDLYsKJl\"\n",
    "consumber_secret=\"bKbQMK69tI4QDvVxlKysfZPPWcGj25IZfgZov3AkZxX9XhIJJI\"\n",
    "access_token=\"220414503-g7I22uCtes7rqhVx9chV1ykMnXOou4NaFtIgSchn\"\n",
    "\n",
    "\n",
    "access_token_secret=\"r0DgJGICi23T52Cjq5BdjMtuF5iWJHu2JIUs4YSCcTUwK\""
   ]
  },
  {
   "cell_type": "code",
   "execution_count": 6,
   "metadata": {},
   "outputs": [],
   "source": [
    "auth=tweepy.OAuthHandler(consumer_key,consumber_secret)\n",
    "auth.set_access_token(access_token,access_token_secret)"
   ]
  },
  {
   "cell_type": "code",
   "execution_count": 7,
   "metadata": {},
   "outputs": [],
   "source": [
    "api= tweepy.API(auth)"
   ]
  },
  {
   "cell_type": "code",
   "execution_count": 8,
   "metadata": {},
   "outputs": [],
   "source": [
    "public_tweets=api.search(\"Trump\")"
   ]
  },
  {
   "cell_type": "code",
   "execution_count": 10,
   "metadata": {},
   "outputs": [
    {
     "name": "stdout",
     "output_type": "stream",
     "text": [
      "RT @NavyOfficiel: Rihanna remporte son procès contre Donald Trump ⚖️ \n",
      "\n",
      "Le président américain a désormais l’interdiction d’utiliser ne sera…\n",
      "Sentiment(polarity=0.0, subjectivity=0.0)\n",
      "RT @williamlegate: There was an incident at Trump's rally…\n",
      "https://t.co/F9cgC0lrNO\n",
      "Sentiment(polarity=0.0, subjectivity=0.0)\n",
      "RT @pikus_pol: Emmanuel Macron vs. Donald Trump😮😮😮😂😂😂😂 https://t.co/udwljijT6x\n",
      "Sentiment(polarity=0.0, subjectivity=0.0)\n",
      "RT @mikandynothem: Americans do not appretiate your insults of President Trump as we remembered all the lives WE sacrificed for France, @Em…\n",
      "Sentiment(polarity=0.0, subjectivity=0.0)\n",
      "RT @RanttMedia: Trump didn't go to Arlington Cemetery\n",
      "\n",
      "Trump didn't go to the US WWI Cemetery in France\n",
      "\n",
      "Trump has mocked war heroes and go…\n",
      "Sentiment(polarity=0.0, subjectivity=0.0)\n",
      "@Hbobrow1Hbobrow Your also Canadian so why do you want to impeach trump? He has nothing to do with you Canadians an… https://t.co/JjTPuxc4ES\n",
      "Sentiment(polarity=0.0, subjectivity=0.0)\n",
      "RT @AlamoOnTheRise: Trump: Day 661\n",
      "-Didn't Visit Arlington Nat'l Cemetery\n",
      "-Vets Not Receiving GI Bill Benefits\n",
      "-Disregards Military/Oversea…\n",
      "Sentiment(polarity=0.0, subjectivity=0.0)\n",
      "RT @tribelaw: As @SteveSchmidtSES suggests, a press boycott until Trump restores @Acosta’s WH press pass should be on the table. Deprived o…\n",
      "Sentiment(polarity=0.0, subjectivity=0.0)\n",
      "RT @CandiceMalcolm: Patriotism is a form of nationalism, the two ideas are closely related. The opposite of nationalism would be anarchy or…\n",
      "Sentiment(polarity=0.0, subjectivity=0.2)\n",
      "It starts with getting rid of trump and his incompetent crime family&amp;other cronies,lock them all up for fucking ame… https://t.co/oRqSwvPISz\n",
      "Sentiment(polarity=-0.475, subjectivity=0.5833333333333334)\n",
      "RT @NavyOfficiel: Rihanna remporte son procès contre Donald Trump ⚖️ \n",
      "\n",
      "Le président américain a désormais l’interdiction d’utiliser ne sera…\n",
      "Sentiment(polarity=0.0, subjectivity=0.0)\n",
      "RT @RWPUSA: The fact that Congress may subpoena the Trump Organization's financial records could affect the stock market?\n",
      "The Russian stock…\n",
      "Sentiment(polarity=0.0, subjectivity=0.0)\n",
      "RT @SethAbramson: All these people wondering why Trump is so angry, unhinged, and despondent, and virtually none of them noting that the th…\n",
      "Sentiment(polarity=-0.5, subjectivity=1.0)\n",
      "RT @nowthisnews: Watch world leaders issue dire warnings against the same kind of nationalism President Trump boasts about https://t.co/Piz…\n",
      "Sentiment(polarity=0.3, subjectivity=0.5125)\n"
     ]
    }
   ],
   "source": [
    "for tweets in public_tweets:\n",
    "    print(tweets.text)\n",
    "    analysis = TextBlob(tweets.text)\n",
    "    print(analysis.sentiment)"
   ]
  },
  {
   "cell_type": "code",
   "execution_count": null,
   "metadata": {},
   "outputs": [],
   "source": []
  },
  {
   "cell_type": "code",
   "execution_count": null,
   "metadata": {},
   "outputs": [],
   "source": []
  }
 ],
 "metadata": {
  "kernelspec": {
   "display_name": "tweepy_env",
   "language": "python",
   "name": "tweepy_env"
  },
  "language_info": {
   "codemirror_mode": {
    "name": "ipython",
    "version": 3
   },
   "file_extension": ".py",
   "mimetype": "text/x-python",
   "name": "python",
   "nbconvert_exporter": "python",
   "pygments_lexer": "ipython3",
   "version": "3.6.7"
  }
 },
 "nbformat": 4,
 "nbformat_minor": 2
}
